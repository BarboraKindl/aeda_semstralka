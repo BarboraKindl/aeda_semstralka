{
 "cells": [
  {
   "metadata": {
    "ExecuteTime": {
     "end_time": "2024-11-22T00:52:43.302544Z",
     "start_time": "2024-11-22T00:52:43.291283Z"
    }
   },
   "cell_type": "code",
   "source": [
    "import pandas as pd\n",
    "from dotenv import load_dotenv\n",
    "import os\n",
    "import logging\n",
    "import pandas as pd\n",
    "import matplotlib.pyplot as plt\n",
    "import seaborn as sns\n",
    "from dotenv import load_dotenv\n",
    "import os\n",
    "import logging\n",
    "\n",
    "\n",
    "# Configure logging\n",
    "logging.basicConfig(level=logging.INFO, format='%(asctime)s - %(levelname)s - %(message)s')\n",
    "\n",
    "# Load environment variables\n",
    "load_dotenv()"
   ],
   "id": "c0c5a09923f71540",
   "outputs": [
    {
     "data": {
      "text/plain": [
       "True"
      ]
     },
     "execution_count": 7,
     "metadata": {},
     "output_type": "execute_result"
    }
   ],
   "execution_count": 7
  },
  {
   "metadata": {
    "ExecuteTime": {
     "end_time": "2024-11-22T00:52:43.350268Z",
     "start_time": "2024-11-22T00:52:43.305427Z"
    }
   },
   "cell_type": "code",
   "source": [
    "try:\n",
    "    # Get the output file path from environment variables\n",
    "    output_file = os.getenv('OUTPUT_FILE')\n",
    "    if not output_file:\n",
    "        raise ValueError(\"OUTPUT_FILE environment variable not set or empty.\")\n",
    "\n",
    "    file_path = output_file\n",
    "\n",
    "    # Log the file path\n",
    "    logging.info(f\"Attempting to load CSV file from path: {file_path}\")\n",
    "\n",
    "    # Load the CSV file\n",
    "    data = pd.read_csv(file_path)\n",
    "    logging.info(\"CSV file loaded successfully.\")\n",
    "\n",
    "    # Display basic statistics\n",
    "    logging.info(\"Generating basic statistics for the dataset.\")\n",
    "    stats = data.describe(include='all')  # Includes numeric and categorical data statistics\n",
    "    print(stats)\n",
    "\n",
    "    # Identify missing values\n",
    "    logging.info(\"Identifying missing values in the dataset.\")\n",
    "    missing_values = data.isnull().sum()\n",
    "    print(\"\\nMissing Values in Each Column:\")\n",
    "    print(missing_values)\n",
    "\n",
    "except Exception as e:\n",
    "    # Log any exceptions that occur\n",
    "    logging.error(f\"An error occurred: {e}\")\n"
   ],
   "id": "cd209ad5ad3b95ba",
   "outputs": [
    {
     "name": "stderr",
     "output_type": "stream",
     "text": [
      "2024-11-22 01:52:43,312 - INFO - Attempting to load CSV file from path: data.csv\n",
      "2024-11-22 01:52:43,329 - INFO - CSV file loaded successfully.\n",
      "2024-11-22 01:52:43,330 - INFO - Generating basic statistics for the dataset.\n",
      "2024-11-22 01:52:43,347 - INFO - Identifying missing values in the dataset.\n"
     ]
    },
    {
     "name": "stdout",
     "output_type": "stream",
     "text": [
      "                      Skupina Základní klinická data Unnamed: 2 Unnamed: 3  \\\n",
      "count                     101                    100         69         70   \n",
      "unique                    101                     95         14         29   \n",
      "top     PD=Parkinsonova nemoc                  60.35         24          2   \n",
      "freq                        1                      2         12         11   \n",
      "\n",
      "       Horizontální antisakády Unnamed: 5  Vertikální antisakády  \\\n",
      "count                      100        100                    100   \n",
      "unique                     100         72                    100   \n",
      "top      Reakční čas (Latency)     28.125  Reakční čas (Latency)   \n",
      "freq                         1          4                      1   \n",
      "\n",
      "               Unnamed: 7 Horizontální prosakády  \\\n",
      "count                 100                    101   \n",
      "unique                 83                    100   \n",
      "top     33.33333333333333                  160.5   \n",
      "freq                    4                      2   \n",
      "\n",
      "                               Unnamed: 9  ...  \\\n",
      "count                                 100  ...   \n",
      "unique                                100  ...   \n",
      "top     Průměrná rychlost (Average speed)  ...   \n",
      "freq                                    1  ...   \n",
      "\n",
      "                               Unnamed: 14        Unnamed: 15  \\\n",
      "count                                  100                 99   \n",
      "unique                                 100                 89   \n",
      "top     Maximální rychlost (maximal Speed)  0.910833333333333   \n",
      "freq                                     1                  3   \n",
      "\n",
      "       Vertikální prosakády                        Unnamed: 17  \\\n",
      "count                   101                                100   \n",
      "unique                  100                                100   \n",
      "top                     200  Průměrná rychlost (Average speed)   \n",
      "freq                      2                                  1   \n",
      "\n",
      "                               Unnamed: 18         Unnamed: 19 Unnamed: 20  \\\n",
      "count                                  100                  99         101   \n",
      "unique                                 100                  97         100   \n",
      "top     Maximální rychlost (Maximal Speed)  0.8442857142857141         194   \n",
      "freq                                     1                   2           2   \n",
      "\n",
      "             Unnamed: 21       Unnamed: 22 Unnamed: 23  \n",
      "count                100               100          99  \n",
      "unique                99                99          92  \n",
      "top     224.160909090909  448.089166666667       1.005  \n",
      "freq                   2                 2           2  \n",
      "\n",
      "[4 rows x 24 columns]\n",
      "\n",
      "Missing Values in Each Column:\n",
      "Skupina                     0\n",
      "Základní klinická data      1\n",
      "Unnamed: 2                 32\n",
      "Unnamed: 3                 31\n",
      "Horizontální antisakády     1\n",
      "Unnamed: 5                  1\n",
      "Vertikální antisakády       1\n",
      "Unnamed: 7                  1\n",
      "Horizontální prosakády      0\n",
      "Unnamed: 9                  1\n",
      "Unnamed: 10                 1\n",
      "Unnamed: 11                 2\n",
      "Unnamed: 12                 0\n",
      "Unnamed: 13                 1\n",
      "Unnamed: 14                 1\n",
      "Unnamed: 15                 2\n",
      "Vertikální prosakády        0\n",
      "Unnamed: 17                 1\n",
      "Unnamed: 18                 1\n",
      "Unnamed: 19                 2\n",
      "Unnamed: 20                 0\n",
      "Unnamed: 21                 1\n",
      "Unnamed: 22                 1\n",
      "Unnamed: 23                 2\n",
      "dtype: int64\n"
     ]
    }
   ],
   "execution_count": 8
  },
  {
   "metadata": {
    "ExecuteTime": {
     "end_time": "2024-11-22T00:57:02.061072Z",
     "start_time": "2024-11-22T00:56:59.840464Z"
    }
   },
   "cell_type": "code",
   "source": [
    "try:\n",
    "    # Get the output file path from environment variables\n",
    "    output_file = os.getenv('OUTPUT_FILE')\n",
    "    if not output_file:\n",
    "        raise ValueError(\"OUTPUT_FILE environment variable not set or empty.\")\n",
    "\n",
    "    file_path = output_file\n",
    "\n",
    "    # Log the file path\n",
    "    logging.info(f\"Attempting to load CSV file from path: {file_path}\")\n",
    "\n",
    "    # Load the CSV file\n",
    "    data = pd.read_csv(file_path)\n",
    "    logging.info(\"CSV file loaded successfully.\")\n",
    "\n",
    "    # Displaying the first few rows to understand the structure\n",
    "    logging.info(\"Displaying the first few rows of the dataset.\")\n",
    "    print(data.head())\n",
    "\n",
    "    # Create visualizations\n",
    "    logging.info(\"Creating visualizations...\")\n",
    "\n",
    "    # Histogram for numeric columns\n",
    "    data.select_dtypes(include=['float64', 'int64']).hist(bins=15, figsize=(15, 10), edgecolor='black')\n",
    "    plt.suptitle(\"Histogram of Numeric Columns\", fontsize=16)\n",
    "    plt.show()\n",
    "\n",
    "    # Correlation heatmap for numeric columns\n",
    "    numeric_data = data.select_dtypes(include=['float64', 'int64'])\n",
    "    if not numeric_data.empty:\n",
    "        plt.figure(figsize=(12, 8))\n",
    "        sns.heatmap(numeric_data.corr(), annot=True, cmap='coolwarm', fmt='.2f')\n",
    "        plt.title(\"Correlation Heatmap\", fontsize=16)\n",
    "        plt.show()\n",
    "\n",
    "    # Count plot for categorical columns (if any)\n",
    "    categorical_columns = data.select_dtypes(include=['object']).columns\n",
    "    for column in categorical_columns:\n",
    "        plt.figure(figsize=(8, 6))\n",
    "        sns.countplot(data=data, y=column, order=data[column].value_counts().index)\n",
    "        plt.title(f\"Count Plot for {column}\", fontsize=14)\n",
    "        plt.show()\n",
    "\n",
    "except Exception as e:\n",
    "    # Log any exceptions that occur\n",
    "    logging.error(f\"An error occurred: {e}\")"
   ],
   "id": "b31a99542062c235",
   "outputs": [
    {
     "name": "stderr",
     "output_type": "stream",
     "text": [
      "2024-11-22 01:56:59,848 - INFO - Attempting to load CSV file from path: data.csv\n",
      "2024-11-22 01:56:59,869 - INFO - CSV file loaded successfully.\n",
      "2024-11-22 01:56:59,869 - INFO - Displaying the first few rows of the dataset.\n",
      "2024-11-22 01:56:59,874 - INFO - Creating visualizations...\n"
     ]
    },
    {
     "name": "stdout",
     "output_type": "stream",
     "text": [
      "                              Skupina Základní klinická data Unnamed: 2  \\\n",
      "0               PD=Parkinsonova nemoc                    Věk       MoCA   \n",
      "1  RBD = Porucha chování v REM spánku                    NaN        NaN   \n",
      "2              HC = Kontrolní skupina                   roky        NaN   \n",
      "3                                 PD1                  58.49         24   \n",
      "4                                 PD2                  72.79         30   \n",
      "\n",
      "  Unnamed: 3 Horizontální antisakády         Unnamed: 5  \\\n",
      "0  UPDRS III                     NaN                NaN   \n",
      "1        NaN   Reakční čas (Latency)      Chyba (Error)   \n",
      "2        NaN                      ms                  %   \n",
      "3         40               329.78125              3.125   \n",
      "4         18       264.2903225806452  64.51612903225806   \n",
      "\n",
      "   Vertikální antisakády         Unnamed: 7 Horizontální prosakády  \\\n",
      "0                    NaN                NaN                Doprava   \n",
      "1  Reakční čas (Latency)      Chyba (Error)  Reakční čas (Latency)   \n",
      "2                     ms                  %                     ms   \n",
      "3                    392  33.33333333333333                  269.9   \n",
      "4      249.8148148148148  70.37037037037037     185.41666666666666   \n",
      "\n",
      "                          Unnamed: 9  ...                         Unnamed: 14  \\\n",
      "0                                NaN  ...                                 NaN   \n",
      "1  Průměrná rychlost (Average speed)  ...  Maximální rychlost (maximal Speed)   \n",
      "2                                °/s  ...                                 °/s   \n",
      "3                            284.034  ...                  454.19250000000005   \n",
      "4                 235.81083333333333  ...                   359.9727272727273   \n",
      "\n",
      "          Unnamed: 15   Vertikální prosakády  \\\n",
      "0                 NaN                 Nahoru   \n",
      "1     Zesílení (gain)  Reakční čas (Latency)   \n",
      "2                 NaN                     ms   \n",
      "3  0.8925000000000001                    290   \n",
      "4   0.840909090909091      189.6153846153846   \n",
      "\n",
      "                         Unnamed: 17                         Unnamed: 18  \\\n",
      "0                                NaN                                 NaN   \n",
      "1  Průměrná rychlost (Average speed)  Maximální rychlost (Maximal Speed)   \n",
      "2                                °/s                                 °/s   \n",
      "3                           139.6375                             506.936   \n",
      "4                 200.03933333333336                   482.3528571428571   \n",
      "\n",
      "          Unnamed: 19            Unnamed: 20  \\\n",
      "0                 NaN                   Dolů   \n",
      "1     Zesílení (Gain)  Reakční čas (Latency)   \n",
      "2                 NaN                     ms   \n",
      "3  1.0068750000000002               277.0625   \n",
      "4  1.0219999999999998     249.73333333333332   \n",
      "\n",
      "                         Unnamed: 21                         Unnamed: 22  \\\n",
      "0                                NaN                                 NaN   \n",
      "1  Průměrná rychlost (Average speed)  Maximální rychlost (Maximal Speed)   \n",
      "2                                °/s                                 °/s   \n",
      "3                 56.678124999999994                          197.205625   \n",
      "4                 179.21666666666667                  403.48533333333324   \n",
      "\n",
      "          Unnamed: 23  \n",
      "0                 NaN  \n",
      "1     Zesílení (Gain)  \n",
      "2                 NaN  \n",
      "3  1.0100000000000002  \n",
      "4  1.1306666666666665  \n",
      "\n",
      "[5 rows x 24 columns]\n"
     ]
    },
    {
     "name": "stderr",
     "output_type": "stream",
     "text": [
      "2024-11-22 01:57:02,059 - ERROR - An error occurred: hist method requires numerical or datetime columns, nothing to plot.\n"
     ]
    }
   ],
   "execution_count": 10
  },
  {
   "metadata": {},
   "cell_type": "code",
   "outputs": [],
   "execution_count": null,
   "source": "",
   "id": "19dbe4183ce28a7f"
  }
 ],
 "metadata": {
  "kernelspec": {
   "display_name": "Python 3",
   "language": "python",
   "name": "python3"
  },
  "language_info": {
   "codemirror_mode": {
    "name": "ipython",
    "version": 2
   },
   "file_extension": ".py",
   "mimetype": "text/x-python",
   "name": "python",
   "nbconvert_exporter": "python",
   "pygments_lexer": "ipython2",
   "version": "2.7.6"
  }
 },
 "nbformat": 4,
 "nbformat_minor": 5
}
