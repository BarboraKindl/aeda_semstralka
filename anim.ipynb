{
 "cells": [
  {
   "cell_type": "code",
   "execution_count": 1,
   "metadata": {},
   "outputs": [
    {
     "ename": "FileNotFoundError",
     "evalue": "[Errno 2] No such file or directory: 'data.csv'",
     "output_type": "error",
     "traceback": [
      "\u001b[1;31m---------------------------------------------------------------------------\u001b[0m",
      "\u001b[1;31mFileNotFoundError\u001b[0m                         Traceback (most recent call last)",
      "Cell \u001b[1;32mIn[1], line 3\u001b[0m\n\u001b[0;32m      1\u001b[0m \u001b[38;5;28;01mfrom\u001b[39;00m \u001b[38;5;21;01mmanim\u001b[39;00m \u001b[38;5;28;01mimport\u001b[39;00m \u001b[38;5;241m*\u001b[39m\n\u001b[0;32m      2\u001b[0m \u001b[38;5;28;01mimport\u001b[39;00m \u001b[38;5;21;01mpandas\u001b[39;00m \u001b[38;5;28;01mas\u001b[39;00m \u001b[38;5;21;01mpd\u001b[39;00m\n\u001b[1;32m----> 3\u001b[0m df \u001b[38;5;241m=\u001b[39m \u001b[43mpd\u001b[49m\u001b[38;5;241;43m.\u001b[39;49m\u001b[43mread_csv\u001b[49m\u001b[43m(\u001b[49m\u001b[38;5;124;43m'\u001b[39;49m\u001b[38;5;124;43mdata.csv\u001b[39;49m\u001b[38;5;124;43m'\u001b[39;49m\u001b[43m)\u001b[49m\n\u001b[0;32m      5\u001b[0m pd_group_data \u001b[38;5;241m=\u001b[39m df[df[\u001b[38;5;124m'\u001b[39m\u001b[38;5;124mgroup\u001b[39m\u001b[38;5;124m'\u001b[39m]\u001b[38;5;241m.\u001b[39mstr\u001b[38;5;241m.\u001b[39mstartswith(\u001b[38;5;124m'\u001b[39m\u001b[38;5;124mPD\u001b[39m\u001b[38;5;124m'\u001b[39m)]\n\u001b[0;32m      7\u001b[0m display(df)\n",
      "File \u001b[1;32mc:\\Users\\kubab\\anaconda3\\envs\\manim\\lib\\site-packages\\pandas\\io\\parsers\\readers.py:1026\u001b[0m, in \u001b[0;36mread_csv\u001b[1;34m(filepath_or_buffer, sep, delimiter, header, names, index_col, usecols, dtype, engine, converters, true_values, false_values, skipinitialspace, skiprows, skipfooter, nrows, na_values, keep_default_na, na_filter, verbose, skip_blank_lines, parse_dates, infer_datetime_format, keep_date_col, date_parser, date_format, dayfirst, cache_dates, iterator, chunksize, compression, thousands, decimal, lineterminator, quotechar, quoting, doublequote, escapechar, comment, encoding, encoding_errors, dialect, on_bad_lines, delim_whitespace, low_memory, memory_map, float_precision, storage_options, dtype_backend)\u001b[0m\n\u001b[0;32m   1013\u001b[0m kwds_defaults \u001b[38;5;241m=\u001b[39m _refine_defaults_read(\n\u001b[0;32m   1014\u001b[0m     dialect,\n\u001b[0;32m   1015\u001b[0m     delimiter,\n\u001b[1;32m   (...)\u001b[0m\n\u001b[0;32m   1022\u001b[0m     dtype_backend\u001b[38;5;241m=\u001b[39mdtype_backend,\n\u001b[0;32m   1023\u001b[0m )\n\u001b[0;32m   1024\u001b[0m kwds\u001b[38;5;241m.\u001b[39mupdate(kwds_defaults)\n\u001b[1;32m-> 1026\u001b[0m \u001b[38;5;28;01mreturn\u001b[39;00m \u001b[43m_read\u001b[49m\u001b[43m(\u001b[49m\u001b[43mfilepath_or_buffer\u001b[49m\u001b[43m,\u001b[49m\u001b[43m \u001b[49m\u001b[43mkwds\u001b[49m\u001b[43m)\u001b[49m\n",
      "File \u001b[1;32mc:\\Users\\kubab\\anaconda3\\envs\\manim\\lib\\site-packages\\pandas\\io\\parsers\\readers.py:620\u001b[0m, in \u001b[0;36m_read\u001b[1;34m(filepath_or_buffer, kwds)\u001b[0m\n\u001b[0;32m    617\u001b[0m _validate_names(kwds\u001b[38;5;241m.\u001b[39mget(\u001b[38;5;124m\"\u001b[39m\u001b[38;5;124mnames\u001b[39m\u001b[38;5;124m\"\u001b[39m, \u001b[38;5;28;01mNone\u001b[39;00m))\n\u001b[0;32m    619\u001b[0m \u001b[38;5;66;03m# Create the parser.\u001b[39;00m\n\u001b[1;32m--> 620\u001b[0m parser \u001b[38;5;241m=\u001b[39m TextFileReader(filepath_or_buffer, \u001b[38;5;241m*\u001b[39m\u001b[38;5;241m*\u001b[39mkwds)\n\u001b[0;32m    622\u001b[0m \u001b[38;5;28;01mif\u001b[39;00m chunksize \u001b[38;5;129;01mor\u001b[39;00m iterator:\n\u001b[0;32m    623\u001b[0m     \u001b[38;5;28;01mreturn\u001b[39;00m parser\n",
      "File \u001b[1;32mc:\\Users\\kubab\\anaconda3\\envs\\manim\\lib\\site-packages\\pandas\\io\\parsers\\readers.py:1620\u001b[0m, in \u001b[0;36mTextFileReader.__init__\u001b[1;34m(self, f, engine, **kwds)\u001b[0m\n\u001b[0;32m   1617\u001b[0m     \u001b[38;5;28mself\u001b[39m\u001b[38;5;241m.\u001b[39moptions[\u001b[38;5;124m\"\u001b[39m\u001b[38;5;124mhas_index_names\u001b[39m\u001b[38;5;124m\"\u001b[39m] \u001b[38;5;241m=\u001b[39m kwds[\u001b[38;5;124m\"\u001b[39m\u001b[38;5;124mhas_index_names\u001b[39m\u001b[38;5;124m\"\u001b[39m]\n\u001b[0;32m   1619\u001b[0m \u001b[38;5;28mself\u001b[39m\u001b[38;5;241m.\u001b[39mhandles: IOHandles \u001b[38;5;241m|\u001b[39m \u001b[38;5;28;01mNone\u001b[39;00m \u001b[38;5;241m=\u001b[39m \u001b[38;5;28;01mNone\u001b[39;00m\n\u001b[1;32m-> 1620\u001b[0m \u001b[38;5;28mself\u001b[39m\u001b[38;5;241m.\u001b[39m_engine \u001b[38;5;241m=\u001b[39m \u001b[38;5;28;43mself\u001b[39;49m\u001b[38;5;241;43m.\u001b[39;49m\u001b[43m_make_engine\u001b[49m\u001b[43m(\u001b[49m\u001b[43mf\u001b[49m\u001b[43m,\u001b[49m\u001b[43m \u001b[49m\u001b[38;5;28;43mself\u001b[39;49m\u001b[38;5;241;43m.\u001b[39;49m\u001b[43mengine\u001b[49m\u001b[43m)\u001b[49m\n",
      "File \u001b[1;32mc:\\Users\\kubab\\anaconda3\\envs\\manim\\lib\\site-packages\\pandas\\io\\parsers\\readers.py:1880\u001b[0m, in \u001b[0;36mTextFileReader._make_engine\u001b[1;34m(self, f, engine)\u001b[0m\n\u001b[0;32m   1878\u001b[0m     \u001b[38;5;28;01mif\u001b[39;00m \u001b[38;5;124m\"\u001b[39m\u001b[38;5;124mb\u001b[39m\u001b[38;5;124m\"\u001b[39m \u001b[38;5;129;01mnot\u001b[39;00m \u001b[38;5;129;01min\u001b[39;00m mode:\n\u001b[0;32m   1879\u001b[0m         mode \u001b[38;5;241m+\u001b[39m\u001b[38;5;241m=\u001b[39m \u001b[38;5;124m\"\u001b[39m\u001b[38;5;124mb\u001b[39m\u001b[38;5;124m\"\u001b[39m\n\u001b[1;32m-> 1880\u001b[0m \u001b[38;5;28mself\u001b[39m\u001b[38;5;241m.\u001b[39mhandles \u001b[38;5;241m=\u001b[39m \u001b[43mget_handle\u001b[49m\u001b[43m(\u001b[49m\n\u001b[0;32m   1881\u001b[0m \u001b[43m    \u001b[49m\u001b[43mf\u001b[49m\u001b[43m,\u001b[49m\n\u001b[0;32m   1882\u001b[0m \u001b[43m    \u001b[49m\u001b[43mmode\u001b[49m\u001b[43m,\u001b[49m\n\u001b[0;32m   1883\u001b[0m \u001b[43m    \u001b[49m\u001b[43mencoding\u001b[49m\u001b[38;5;241;43m=\u001b[39;49m\u001b[38;5;28;43mself\u001b[39;49m\u001b[38;5;241;43m.\u001b[39;49m\u001b[43moptions\u001b[49m\u001b[38;5;241;43m.\u001b[39;49m\u001b[43mget\u001b[49m\u001b[43m(\u001b[49m\u001b[38;5;124;43m\"\u001b[39;49m\u001b[38;5;124;43mencoding\u001b[39;49m\u001b[38;5;124;43m\"\u001b[39;49m\u001b[43m,\u001b[49m\u001b[43m \u001b[49m\u001b[38;5;28;43;01mNone\u001b[39;49;00m\u001b[43m)\u001b[49m\u001b[43m,\u001b[49m\n\u001b[0;32m   1884\u001b[0m \u001b[43m    \u001b[49m\u001b[43mcompression\u001b[49m\u001b[38;5;241;43m=\u001b[39;49m\u001b[38;5;28;43mself\u001b[39;49m\u001b[38;5;241;43m.\u001b[39;49m\u001b[43moptions\u001b[49m\u001b[38;5;241;43m.\u001b[39;49m\u001b[43mget\u001b[49m\u001b[43m(\u001b[49m\u001b[38;5;124;43m\"\u001b[39;49m\u001b[38;5;124;43mcompression\u001b[39;49m\u001b[38;5;124;43m\"\u001b[39;49m\u001b[43m,\u001b[49m\u001b[43m \u001b[49m\u001b[38;5;28;43;01mNone\u001b[39;49;00m\u001b[43m)\u001b[49m\u001b[43m,\u001b[49m\n\u001b[0;32m   1885\u001b[0m \u001b[43m    \u001b[49m\u001b[43mmemory_map\u001b[49m\u001b[38;5;241;43m=\u001b[39;49m\u001b[38;5;28;43mself\u001b[39;49m\u001b[38;5;241;43m.\u001b[39;49m\u001b[43moptions\u001b[49m\u001b[38;5;241;43m.\u001b[39;49m\u001b[43mget\u001b[49m\u001b[43m(\u001b[49m\u001b[38;5;124;43m\"\u001b[39;49m\u001b[38;5;124;43mmemory_map\u001b[39;49m\u001b[38;5;124;43m\"\u001b[39;49m\u001b[43m,\u001b[49m\u001b[43m \u001b[49m\u001b[38;5;28;43;01mFalse\u001b[39;49;00m\u001b[43m)\u001b[49m\u001b[43m,\u001b[49m\n\u001b[0;32m   1886\u001b[0m \u001b[43m    \u001b[49m\u001b[43mis_text\u001b[49m\u001b[38;5;241;43m=\u001b[39;49m\u001b[43mis_text\u001b[49m\u001b[43m,\u001b[49m\n\u001b[0;32m   1887\u001b[0m \u001b[43m    \u001b[49m\u001b[43merrors\u001b[49m\u001b[38;5;241;43m=\u001b[39;49m\u001b[38;5;28;43mself\u001b[39;49m\u001b[38;5;241;43m.\u001b[39;49m\u001b[43moptions\u001b[49m\u001b[38;5;241;43m.\u001b[39;49m\u001b[43mget\u001b[49m\u001b[43m(\u001b[49m\u001b[38;5;124;43m\"\u001b[39;49m\u001b[38;5;124;43mencoding_errors\u001b[39;49m\u001b[38;5;124;43m\"\u001b[39;49m\u001b[43m,\u001b[49m\u001b[43m \u001b[49m\u001b[38;5;124;43m\"\u001b[39;49m\u001b[38;5;124;43mstrict\u001b[39;49m\u001b[38;5;124;43m\"\u001b[39;49m\u001b[43m)\u001b[49m\u001b[43m,\u001b[49m\n\u001b[0;32m   1888\u001b[0m \u001b[43m    \u001b[49m\u001b[43mstorage_options\u001b[49m\u001b[38;5;241;43m=\u001b[39;49m\u001b[38;5;28;43mself\u001b[39;49m\u001b[38;5;241;43m.\u001b[39;49m\u001b[43moptions\u001b[49m\u001b[38;5;241;43m.\u001b[39;49m\u001b[43mget\u001b[49m\u001b[43m(\u001b[49m\u001b[38;5;124;43m\"\u001b[39;49m\u001b[38;5;124;43mstorage_options\u001b[39;49m\u001b[38;5;124;43m\"\u001b[39;49m\u001b[43m,\u001b[49m\u001b[43m \u001b[49m\u001b[38;5;28;43;01mNone\u001b[39;49;00m\u001b[43m)\u001b[49m\u001b[43m,\u001b[49m\n\u001b[0;32m   1889\u001b[0m \u001b[43m\u001b[49m\u001b[43m)\u001b[49m\n\u001b[0;32m   1890\u001b[0m \u001b[38;5;28;01massert\u001b[39;00m \u001b[38;5;28mself\u001b[39m\u001b[38;5;241m.\u001b[39mhandles \u001b[38;5;129;01mis\u001b[39;00m \u001b[38;5;129;01mnot\u001b[39;00m \u001b[38;5;28;01mNone\u001b[39;00m\n\u001b[0;32m   1891\u001b[0m f \u001b[38;5;241m=\u001b[39m \u001b[38;5;28mself\u001b[39m\u001b[38;5;241m.\u001b[39mhandles\u001b[38;5;241m.\u001b[39mhandle\n",
      "File \u001b[1;32mc:\\Users\\kubab\\anaconda3\\envs\\manim\\lib\\site-packages\\pandas\\io\\common.py:873\u001b[0m, in \u001b[0;36mget_handle\u001b[1;34m(path_or_buf, mode, encoding, compression, memory_map, is_text, errors, storage_options)\u001b[0m\n\u001b[0;32m    868\u001b[0m \u001b[38;5;28;01melif\u001b[39;00m \u001b[38;5;28misinstance\u001b[39m(handle, \u001b[38;5;28mstr\u001b[39m):\n\u001b[0;32m    869\u001b[0m     \u001b[38;5;66;03m# Check whether the filename is to be opened in binary mode.\u001b[39;00m\n\u001b[0;32m    870\u001b[0m     \u001b[38;5;66;03m# Binary mode does not support 'encoding' and 'newline'.\u001b[39;00m\n\u001b[0;32m    871\u001b[0m     \u001b[38;5;28;01mif\u001b[39;00m ioargs\u001b[38;5;241m.\u001b[39mencoding \u001b[38;5;129;01mand\u001b[39;00m \u001b[38;5;124m\"\u001b[39m\u001b[38;5;124mb\u001b[39m\u001b[38;5;124m\"\u001b[39m \u001b[38;5;129;01mnot\u001b[39;00m \u001b[38;5;129;01min\u001b[39;00m ioargs\u001b[38;5;241m.\u001b[39mmode:\n\u001b[0;32m    872\u001b[0m         \u001b[38;5;66;03m# Encoding\u001b[39;00m\n\u001b[1;32m--> 873\u001b[0m         handle \u001b[38;5;241m=\u001b[39m \u001b[38;5;28;43mopen\u001b[39;49m\u001b[43m(\u001b[49m\n\u001b[0;32m    874\u001b[0m \u001b[43m            \u001b[49m\u001b[43mhandle\u001b[49m\u001b[43m,\u001b[49m\n\u001b[0;32m    875\u001b[0m \u001b[43m            \u001b[49m\u001b[43mioargs\u001b[49m\u001b[38;5;241;43m.\u001b[39;49m\u001b[43mmode\u001b[49m\u001b[43m,\u001b[49m\n\u001b[0;32m    876\u001b[0m \u001b[43m            \u001b[49m\u001b[43mencoding\u001b[49m\u001b[38;5;241;43m=\u001b[39;49m\u001b[43mioargs\u001b[49m\u001b[38;5;241;43m.\u001b[39;49m\u001b[43mencoding\u001b[49m\u001b[43m,\u001b[49m\n\u001b[0;32m    877\u001b[0m \u001b[43m            \u001b[49m\u001b[43merrors\u001b[49m\u001b[38;5;241;43m=\u001b[39;49m\u001b[43merrors\u001b[49m\u001b[43m,\u001b[49m\n\u001b[0;32m    878\u001b[0m \u001b[43m            \u001b[49m\u001b[43mnewline\u001b[49m\u001b[38;5;241;43m=\u001b[39;49m\u001b[38;5;124;43m\"\u001b[39;49m\u001b[38;5;124;43m\"\u001b[39;49m\u001b[43m,\u001b[49m\n\u001b[0;32m    879\u001b[0m \u001b[43m        \u001b[49m\u001b[43m)\u001b[49m\n\u001b[0;32m    880\u001b[0m     \u001b[38;5;28;01melse\u001b[39;00m:\n\u001b[0;32m    881\u001b[0m         \u001b[38;5;66;03m# Binary mode\u001b[39;00m\n\u001b[0;32m    882\u001b[0m         handle \u001b[38;5;241m=\u001b[39m \u001b[38;5;28mopen\u001b[39m(handle, ioargs\u001b[38;5;241m.\u001b[39mmode)\n",
      "\u001b[1;31mFileNotFoundError\u001b[0m: [Errno 2] No such file or directory: 'data.csv'"
     ]
    }
   ],
   "source": [
    "from manim import *\n",
    "import pandas as pd\n",
    "df = pd.read_csv('data.csv')\n",
    "\n",
    "pd_group_data = df[df['group'].str.startswith('PD')]\n",
    "\n",
    "display(df)"
   ]
  },
  {
   "cell_type": "code",
   "execution_count": null,
   "metadata": {},
   "outputs": [
    {
     "data": {
      "text/html": [
       "<pre style=\"white-space:pre;overflow-x:auto;line-height:normal;font-family:Menlo,'DejaVu Sans Mono',consolas,'Courier New',monospace\">Manim Community <span style=\"color: #008000; text-decoration-color: #008000\">v0.18.1</span>\n",
       "\n",
       "</pre>\n"
      ],
      "text/plain": [
       "Manim Community \u001b[32mv0.\u001b[0m\u001b[32m18.1\u001b[0m\n",
       "\n"
      ]
     },
     "metadata": {},
     "output_type": "display_data"
    },
    {
     "name": "stderr",
     "output_type": "stream",
     "text": [
      "                                                                                   \r"
     ]
    },
    {
     "data": {
      "text/html": [
       "<video src=\"media\\jupyter\\GroupVisualization@2024-12-05@02-03-34.mp4\" controls autoplay loop style=\"max-width: 60%;\"  >\n",
       "      Your browser does not support the <code>video</code> element.\n",
       "    </video>"
      ],
      "text/plain": [
       "<IPython.core.display.Video object>"
      ]
     },
     "metadata": {},
     "output_type": "display_data"
    }
   ],
   "source": [
    "import pandas as pd\n",
    "from manim import *\n",
    "import numpy as np\n",
    "\n",
    "# Load and filter data\n",
    "df = pd.read_csv('data.csv')\n",
    "pd_group_data = df[df['group'].str.startswith('PD')]\n",
    "rbd_group_data = df[df['group'].str.startswith('RBD')]\n",
    "hc_group_data = df[df['group'].str.startswith('HC')]\n",
    "\n",
    "# Combine all groups into one list for processing\n",
    "all_groups_data = pd.concat([pd_group_data, rbd_group_data, hc_group_data])\n",
    "\n",
    "# Define the Manim Scene\n",
    "class GroupVisualization(Scene):\n",
    "    def construct(self):\n",
    "        # Create initial and target lines\n",
    "        start_line = Line(LEFT * 5, RIGHT * 5, color=WHITE)\n",
    "        end_line = Line(LEFT * 5 + DOWN * 2, RIGHT * 5 + DOWN * 2, color=WHITE)\n",
    "\n",
    "        # Create group names at the middle of each line\n",
    "        pd_text = Text(\"PD\", color=BLUE).scale(0.5).shift(LEFT * 4.5 + UP * 0.5)  # Top-left\n",
    "        rbd_text = Text(\"RBD\", color=RED).scale(0.5).shift(ORIGIN + UP * 0.5)       # Top-middle\n",
    "        hc_text = Text(\"HC\", color=GREEN).scale(0.5).shift(RIGHT * 4.5 + UP * 0.5)  # Top-right\n",
    "        \n",
    "\n",
    "        # Get the number of all group points\n",
    "        group_count = len(all_groups_data)\n",
    "        \n",
    "        # Create a list to hold dots based on their group\n",
    "        dots = []\n",
    "\n",
    "        for i, row in all_groups_data.iterrows():\n",
    "            # Determine the group and assign color accordingly\n",
    "            if row['group'].startswith('PD'):\n",
    "                color = BLUE\n",
    "            elif row['group'].startswith('RBD'):\n",
    "                color = RED\n",
    "            else:\n",
    "                color = GREEN\n",
    "\n",
    "            # Calculate position for each point on the start line\n",
    "            position = interpolate(LEFT * 5, RIGHT * 5, alpha=i / (group_count - 1)) if group_count > 1 else ORIGIN\n",
    "            dot = Dot(point=position, color=color)\n",
    "            dots.append(dot)\n",
    "\n",
    "        # Fade all at once\n",
    "        self.play(\n",
    "            FadeIn(start_line), FadeIn(end_line),\n",
    "            FadeIn(pd_text), FadeIn(rbd_text), FadeIn(hc_text),\n",
    "            FadeIn(VGroup(*dots)), run_time=1\n",
    "        )\n",
    "        self.wait(0.5)\n",
    "\n",
    "        # Animate points moving to the target line\n",
    "        animations = []\n",
    "        for i, (dot, row) in enumerate(zip(dots, all_groups_data.iterrows())):\n",
    "            _, data_row = row\n",
    "            rt = data_row['hpr_rt'] / 1000  # Convert reaction time to seconds\n",
    "            avgv = data_row['hpr_avgv'] / 50  # Normalize average velocity\n",
    "            target_position = dot.get_center() + DOWN * 2  # Target position on the second line\n",
    "            distance = np.linalg.norm(target_position - dot.get_center())\n",
    "            duration = distance / avgv if avgv > 0 else 0  # Calculate time based on average velocity\n",
    "            \n",
    "            # Add animation with reaction time delay\n",
    "            animations.append(\n",
    "                dot.animate(run_time=duration, rate_func=linear)  # Use linear motion for abrupt movement\n",
    "                .move_to(target_position)\n",
    "                .set_delay(rt)\n",
    "            )\n",
    "        \n",
    "        # Play all animations\n",
    "        self.play(AnimationGroup(*animations))\n",
    "        \n",
    "        # Hold the scene\n",
    "        self.wait(0.5)\n",
    "\n",
    "# Run the scene\n",
    "%manim -v WARNING GroupVisualization"
   ]
  },
  {
   "cell_type": "code",
   "execution_count": null,
   "metadata": {},
   "outputs": [
    {
     "data": {
      "text/html": [
       "<pre style=\"white-space:pre;overflow-x:auto;line-height:normal;font-family:Menlo,'DejaVu Sans Mono',consolas,'Courier New',monospace\">Manim Community <span style=\"color: #008000; text-decoration-color: #008000\">v0.18.1</span>\n",
       "\n",
       "</pre>\n"
      ],
      "text/plain": [
       "Manim Community \u001b[32mv0.\u001b[0m\u001b[32m18.1\u001b[0m\n",
       "\n"
      ]
     },
     "metadata": {},
     "output_type": "display_data"
    },
    {
     "name": "stderr",
     "output_type": "stream",
     "text": [
      "                                                                                     \r"
     ]
    },
    {
     "data": {
      "text/html": [
       "<video src=\"media\\jupyter\\GroupVisualization@2024-12-05@02-03-37.mp4\" controls autoplay loop style=\"max-width: 60%;\"  >\n",
       "      Your browser does not support the <code>video</code> element.\n",
       "    </video>"
      ],
      "text/plain": [
       "<IPython.core.display.Video object>"
      ]
     },
     "metadata": {},
     "output_type": "display_data"
    }
   ],
   "source": [
    "import pandas as pd\n",
    "from manim import *\n",
    "import numpy as np\n",
    "\n",
    "# Load and filter data\n",
    "df = pd.read_csv('data.csv')\n",
    "pd_group_data = df[df['group'].str.startswith('PD')]\n",
    "rbd_group_data = df[df['group'].str.startswith('RBD')]\n",
    "hc_group_data = df[df['group'].str.startswith('HC')]\n",
    "\n",
    "# Combine all groups into one list for processing\n",
    "all_groups_data = pd.concat([pd_group_data, rbd_group_data, hc_group_data])\n",
    "\n",
    "# Define the Manim Scene\n",
    "class GroupVisualization(Scene):\n",
    "    def construct(self):\n",
    "        # Create initial and target lines\n",
    "        start_line = Line(LEFT * 5, RIGHT * 5, color=WHITE)\n",
    "        end_line = Line(LEFT * 5 + DOWN * 2, RIGHT * 5 + DOWN * 2, color=WHITE)\n",
    "\n",
    "        # Create group names at the middle of each line\n",
    "        pd_text = Text(\"PD\", color=BLUE).scale(0.5).shift(LEFT * 4.5 + UP * 0.5)  # Top-left\n",
    "        rbd_text = Text(\"RBD\", color=RED).scale(0.5).shift(ORIGIN + UP * 0.5)       # Top-middle\n",
    "        hc_text = Text(\"HC\", color=GREEN).scale(0.5).shift(RIGHT * 4.5 + UP * 0.5)  # Top-right\n",
    "        \n",
    "        # Fade in everything (lines, text, and dots)\n",
    "        self.play(\n",
    "            FadeIn(start_line), FadeIn(end_line),\n",
    "            FadeIn(pd_text), FadeIn(rbd_text), FadeIn(hc_text)\n",
    "        )\n",
    "\n",
    "        # Get the number of all group points\n",
    "        pd_count = len(pd_group_data)\n",
    "        rbd_count = len(rbd_group_data)\n",
    "        hc_count = len(hc_group_data)\n",
    "\n",
    "        # Define the space between groups\n",
    "        space_between_groups = 1  # Adjust as needed\n",
    "        \n",
    "        # Define the start and end positions for each group on the line\n",
    "        pd_start_pos = LEFT * 5\n",
    "        rbd_start_pos = LEFT * 5 + RIGHT * (space_between_groups)\n",
    "        hc_start_pos = LEFT * 5 + RIGHT * (space_between_groups)\n",
    "\n",
    "        # Create a list to hold dots based on their group\n",
    "        dots = []\n",
    "\n",
    "        # For PD group\n",
    "        for i, row in pd_group_data.iterrows():\n",
    "            color = BLUE\n",
    "            position = interpolate(pd_start_pos, pd_start_pos + RIGHT * pd_count / 10, alpha=i / (pd_count - 1)) if pd_count > 1 else pd_start_pos\n",
    "            dot = Dot(point=position, color=color)\n",
    "            dots.append(dot)\n",
    "\n",
    "        # For RBD group\n",
    "        for i, row in rbd_group_data.iterrows():\n",
    "            color = RED\n",
    "            position = interpolate(rbd_start_pos, rbd_start_pos + RIGHT * rbd_count / 10, alpha=i / (rbd_count - 1)) if rbd_count > 1 else rbd_start_pos\n",
    "            dot = Dot(point=position, color=color)\n",
    "            dots.append(dot)\n",
    "\n",
    "        # For HC group\n",
    "        for i, row in hc_group_data.iterrows():\n",
    "            color = GREEN\n",
    "            position = interpolate(hc_start_pos, hc_start_pos + RIGHT * hc_count / 10, alpha=i / (hc_count - 1)) if hc_count > 1 else hc_start_pos\n",
    "            dot = Dot(point=position, color=color)\n",
    "            dots.append(dot)\n",
    "\n",
    "        # Fade in all dots at once\n",
    "        self.play(FadeIn(VGroup(*dots)), run_time=1)  # VGroup to group all dots together\n",
    "\n",
    "        self.wait(0.5)\n",
    "\n",
    "        # Animate points moving to the target line\n",
    "        animations = []\n",
    "        for i, (dot, row) in enumerate(zip(dots, all_groups_data.iterrows())):\n",
    "            _, data_row = row\n",
    "            rt = data_row['hpr_rt'] / 1000  # Convert reaction time to seconds\n",
    "            avgv = data_row['hpr_avgv'] / 100  # Normalize average velocity\n",
    "            target_position = dot.get_center() + DOWN * 2  # Target position on the second line\n",
    "            distance = np.linalg.norm(target_position - dot.get_center())\n",
    "            duration = distance / avgv if avgv > 0 else 0  # Calculate time based on average velocity\n",
    "            \n",
    "            # Add animation with reaction time delay\n",
    "            animations.append(\n",
    "                dot.animate(run_time=duration, rate_func=linear)  # Use linear motion for abrupt movement\n",
    "                .move_to(target_position)\n",
    "                .set_delay(rt)\n",
    "            )\n",
    "        \n",
    "        # Play all animations\n",
    "        self.play(AnimationGroup(*animations))\n",
    "        \n",
    "        # Hold the scene\n",
    "        self.wait(0.5)\n",
    "\n",
    "# Run the scene\n",
    "%manim -v WARNING GroupVisualization\n"
   ]
  }
 ],
 "metadata": {
  "kernelspec": {
   "display_name": "manim",
   "language": "python",
   "name": "python3"
  },
  "language_info": {
   "codemirror_mode": {
    "name": "ipython",
    "version": 3
   },
   "file_extension": ".py",
   "mimetype": "text/x-python",
   "name": "python",
   "nbconvert_exporter": "python",
   "pygments_lexer": "ipython3",
   "version": "3.10.15"
  }
 },
 "nbformat": 4,
 "nbformat_minor": 2
}
